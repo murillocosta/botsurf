{
 "cells": [
  {
   "cell_type": "code",
   "execution_count": 2,
   "id": "0764dbaa",
   "metadata": {},
   "outputs": [],
   "source": [
    "import requests\n",
    "from bs4 import BeautifulSoup"
   ]
  },
  {
   "cell_type": "code",
   "execution_count": 3,
   "id": "e90f674a",
   "metadata": {},
   "outputs": [],
   "source": [
    "lista_praia = ['torrefacao', 'espanhol', 'paciencia', 'farol-da-barra', 'barravento', 'tonys', 'praia-da-onda', 'pescador', 'secret-2', 'stella', 'aleluia',]"
   ]
  },
  {
   "cell_type": "code",
   "execution_count": 19,
   "id": "bc094d3a",
   "metadata": {},
   "outputs": [
    {
     "name": "stdout",
     "output_type": "stream",
     "text": [
      "Nordeste\n",
      "Fraco\n",
      "Flat\n",
      "Sem vento\n",
      "Sem vento\n",
      "Flat\n",
      "Nordeste\n",
      "Fraco\n",
      "Flat\n",
      "Sem vento\n",
      "Sem vento\n",
      "Flat\n",
      "Nordeste\n",
      "Fraco\n",
      "Flat\n",
      "Nordeste\n",
      "Fraco\n",
      "Flat\n",
      "Nordeste\n",
      "Fraco\n",
      "Flat\n",
      "Nordeste\n",
      "Fraco\n",
      "0.75\n",
      "Leste\n",
      "Moderado\n",
      "0.25\n",
      "Sem vento\n",
      "Sem vento\n",
      "0.75\n",
      "\n",
      "\n",
      "Flat\n",
      "Leste\n",
      "Moderado\n",
      "Flat\n"
     ]
    }
   ],
   "source": [
    "for praia in lista_praia:\n",
    "    htmldata = requests.get(\n",
    "        f'https://www.waves.com.br/surf/ondas/condicao/bahia/{praia}').content\n",
    "    soup = BeautifulSoup(htmldata, \"html.parser\")\n",
    "    vento_direcao = soup.find(\"td\", {\"id\": \"forecast_wind_direction\"})\n",
    "    vento_intensidade = soup.find(\"td\", {\"id\": \"forecast_wind_intensity\"})\n",
    "    onda_tamanho = soup.find(\"td\", {\"id\": \"forecast_wave_size\"})\n",
    "    print(vento_direcao.text.strip())\n",
    "    print(vento_intensidade.text.strip())\n",
    "    print(onda_tamanho.span.text.strip())"
   ]
  },
  {
   "cell_type": "code",
   "execution_count": 8,
   "id": "27de36b7",
   "metadata": {
    "scrolled": true
   },
   "outputs": [
    {
     "name": "stdout",
     "output_type": "stream",
     "text": [
      "Leste\n"
     ]
    }
   ],
   "source": []
  },
  {
   "cell_type": "code",
   "execution_count": null,
   "id": "45a0647f",
   "metadata": {},
   "outputs": [],
   "source": []
  }
 ],
 "metadata": {
  "kernelspec": {
   "display_name": "Python 3 (ipykernel)",
   "language": "python",
   "name": "python3"
  },
  "language_info": {
   "codemirror_mode": {
    "name": "ipython",
    "version": 3
   },
   "file_extension": ".py",
   "mimetype": "text/x-python",
   "name": "python",
   "nbconvert_exporter": "python",
   "pygments_lexer": "ipython3",
   "version": "3.9.7"
  }
 },
 "nbformat": 4,
 "nbformat_minor": 5
}
